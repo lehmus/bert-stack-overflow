{
 "cells": [
  {
   "cell_type": "code",
   "execution_count": 24,
   "metadata": {},
   "outputs": [],
   "source": [
    "# AML Workspace\n",
    "subscription_id = 'a89228ac-8bf4-4646-9d2c-442b1cb5d622'\n",
    "resource_group = 'lauri-ml'\n",
    "aml_workspace = 'lauri-ml'\n",
    "# Dataset properties\n",
    "# dataset_localpath = '../1-Training/data/train.csv'\n",
    "# dataset_remotepath = 'bert-testing/training/'\n",
    "# dataset_name = 'BERT training'\n",
    "# dataset_descr = 'Training dataset for BERT fine-tuning'\n",
    "# =================\n",
    "dataset_localpath = '../1-Training/data/classes.txt'\n",
    "dataset_remotepath = 'bert-testing/training/'\n",
    "dataset_name = 'BERT training - classes'\n",
    "dataset_descr = 'Classes for BERT training'"
   ]
  },
  {
   "cell_type": "code",
   "execution_count": 25,
   "metadata": {},
   "outputs": [],
   "source": [
    "from azureml.core import Workspace, Dataset\n",
    "from azureml.data.dataset_type_definitions import PromoteHeadersBehavior as header_def"
   ]
  },
  {
   "cell_type": "markdown",
   "metadata": {},
   "source": [
    "## Connect To Workspace"
   ]
  },
  {
   "cell_type": "code",
   "execution_count": 2,
   "metadata": {},
   "outputs": [
    {
     "name": "stdout",
     "output_type": "stream",
     "text": "Workspace name: lauri-ml\nAzure region: westeurope\nSubscription id: a89228ac-8bf4-4646-9d2c-442b1cb5d622\nResource group: lauri-ml\n"
    }
   ],
   "source": [
    "workspace = Workspace.from_config()\n",
    "print('Workspace name: ' + workspace.name, \n",
    "      'Azure region: ' + workspace.location, \n",
    "      'Subscription id: ' + workspace.subscription_id, \n",
    "      'Resource group: ' + workspace.resource_group, sep = '\\n')"
   ]
  },
  {
   "cell_type": "markdown",
   "metadata": {},
   "source": [
    "## Upload data to Blob Storage"
   ]
  },
  {
   "cell_type": "code",
   "execution_count": 26,
   "metadata": {},
   "outputs": [
    {
     "name": "stdout",
     "output_type": "stream",
     "text": "Uploading an estimated of 1 files\nUploading ../1-Training/data/classes.txt\nUploaded ../1-Training/data/classes.txt, 1 files out of an estimated total of 1\nUploaded 1 files\n"
    },
    {
     "data": {
      "text/plain": "$AZUREML_DATAREFERENCE_8c8b6a83630448259164d23d866dfd16"
     },
     "execution_count": 26,
     "metadata": {},
     "output_type": "execute_result"
    }
   ],
   "source": [
    "datastore = workspace.get_default_datastore()\n",
    "datastore.upload_files(\n",
    "    files = [dataset_localpath], target_path = dataset_remotepath,\n",
    "    overwrite = True, show_progress = True\n",
    ")"
   ]
  },
  {
   "cell_type": "markdown",
   "metadata": {},
   "source": [
    "## Register Dataset"
   ]
  },
  {
   "cell_type": "code",
   "execution_count": 27,
   "metadata": {},
   "outputs": [],
   "source": [
    "dataset = Dataset.Tabular.from_delimited_files(\n",
    "    path=(datastore, dataset_remotepath), header=header_def.NO_HEADERS\n",
    ")\n",
    "dataset = dataset.register(workspace, name=dataset_name, description=dataset_descr, create_new_version=True)"
   ]
  },
  {
   "cell_type": "code",
   "execution_count": 28,
   "metadata": {},
   "outputs": [
    {
     "data": {
      "text/html": "<div>\n<style scoped>\n    .dataframe tbody tr th:only-of-type {\n        vertical-align: middle;\n    }\n\n    .dataframe tbody tr th {\n        vertical-align: top;\n    }\n\n    .dataframe thead th {\n        text-align: right;\n    }\n</style>\n<table border=\"1\" class=\"dataframe\">\n  <thead>\n    <tr style=\"text-align: right;\">\n      <th></th>\n      <th>Column1</th>\n    </tr>\n  </thead>\n  <tbody>\n    <tr>\n      <th>0</th>\n      <td>azure-web-app-service</td>\n    </tr>\n    <tr>\n      <th>1</th>\n      <td>azure-storage</td>\n    </tr>\n    <tr>\n      <th>2</th>\n      <td>azure-devops</td>\n    </tr>\n    <tr>\n      <th>3</th>\n      <td>azure-virtual-machine</td>\n    </tr>\n    <tr>\n      <th>4</th>\n      <td>azure-functions</td>\n    </tr>\n  </tbody>\n</table>\n</div>",
      "text/plain": "                 Column1\n0  azure-web-app-service\n1          azure-storage\n2           azure-devops\n3  azure-virtual-machine\n4        azure-functions"
     },
     "execution_count": 28,
     "metadata": {},
     "output_type": "execute_result"
    }
   ],
   "source": [
    "dataset.take(5).to_pandas_dataframe()"
   ]
  },
  {
   "cell_type": "code",
   "execution_count": null,
   "metadata": {},
   "outputs": [],
   "source": []
  }
 ],
 "metadata": {
  "file_extension": ".py",
  "kernel_info": {
   "name": "python3"
  },
  "kernelspec": {
   "display_name": "Python 3.7.6 64-bit",
   "language": "python",
   "name": "python37664bitc58bf88b8f1e45baa78bacf854e56ebc"
  },
  "language_info": {
   "codemirror_mode": {
    "name": "ipython",
    "version": 3
   },
   "file_extension": ".py",
   "mimetype": "text/x-python",
   "name": "python",
   "nbconvert_exporter": "python",
   "pygments_lexer": "ipython3",
   "version": "3.7.6-final"
  },
  "mimetype": "text/x-python",
  "name": "python",
  "npconvert_exporter": "python",
  "nteract": {
   "version": "nteract-front-end@1.0.0"
  },
  "pygments_lexer": "ipython3",
  "version": 3
 },
 "nbformat": 4,
 "nbformat_minor": 2
}