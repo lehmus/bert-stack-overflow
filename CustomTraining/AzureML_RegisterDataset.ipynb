{
 "cells": [
  {
   "cell_type": "code",
   "execution_count": 1,
   "metadata": {},
   "outputs": [],
   "source": [
    "subscription_id = 'a89228ac-8bf4-4646-9d2c-442b1cb5d622'\n",
    "resource_group = 'lauri-ml'\n",
    "aml_workspace = 'lauri-ml'\n",
    "# External data\n",
    "datastore_name = 'tfworld'\n",
    "# Example dataset\n",
    "dataset_path = 'azure-service-classifier/data/train.csv'\n",
    "dataset_name = 'Stackoverflow dataset'\n",
    "dataset_descr = 'Tabular Stackoverflow dataset'\n",
    "# Azure Stackoverflow dataset\n",
    "azure_dataset_path = 'azure-service-classifier/data'\n",
    "azure_dataset_name = 'Azure Services Dataset'\n",
    "azure_dataset_descr = 'Dataset containing azure related posts on Stackoverflow'"
   ]
  },
  {
   "cell_type": "code",
   "execution_count": 2,
   "metadata": {},
   "outputs": [],
   "source": [
    "from azureml.core import Workspace, Dataset\n",
    "# from azureml.core.runconfig import RunConfiguration"
   ]
  },
  {
   "cell_type": "markdown",
   "metadata": {},
   "source": [
    "## Connect To Workspace"
   ]
  },
  {
   "cell_type": "code",
   "execution_count": null,
   "metadata": {},
   "outputs": [],
   "source": [
    "# workspace = Workspace(\n",
    "#     subscription_id=subscription_id, resource_group=resource_group, workspace_name=aml_workspace\n",
    "# )\n",
    "# workspace.write_config()"
   ]
  },
  {
   "cell_type": "code",
   "execution_count": 4,
   "metadata": {},
   "outputs": [
    {
     "name": "stdout",
     "output_type": "stream",
     "text": "Performing interactive authentication. Please follow the instructions on the terminal.\nWARNING - Note, we have launched a browser for you to login. For old experience with device code, use \"az login --use-device-code\"\nWARNING - You have logged in. Now let us find all the subscriptions to which you have access...\nInteractive authentication successfully completed.\nWorkspace name: lauri-ml\nAzure region: westeurope\nSubscription id: a89228ac-8bf4-4646-9d2c-442b1cb5d622\nResource group: lauri-ml\n"
    }
   ],
   "source": [
    "workspace = Workspace.from_config()\n",
    "print('Workspace name: ' + workspace.name, \n",
    "      'Azure region: ' + workspace.location, \n",
    "      'Subscription id: ' + workspace.subscription_id, \n",
    "      'Resource group: ' + workspace.resource_group, sep = '\\n')"
   ]
  },
  {
   "cell_type": "markdown",
   "metadata": {},
   "source": [
    "#### If the datastore has already been registered, then you (and other users in your workspace) can directly run this cell."
   ]
  },
  {
   "cell_type": "code",
   "execution_count": 8,
   "metadata": {},
   "outputs": [],
   "source": [
    "datastore = workspace.datastores[datastore_name]"
   ]
  },
  {
   "cell_type": "markdown",
   "metadata": {},
   "source": [
    "## Create Dataset"
   ]
  },
  {
   "cell_type": "code",
   "execution_count": 17,
   "metadata": {},
   "outputs": [],
   "source": [
    "tabular = Dataset.Tabular.from_delimited_files(path=(datastore, dataset_path))\n",
    "tabular = tabular.register(workspace, name=dataset_name, description=dataset_descr)"
   ]
  },
  {
   "cell_type": "markdown",
   "metadata": {},
   "source": [
    "## Register Dataset\n",
    "\n",
    "Azure Machine Learning service supports first class notion of a Dataset. A [Dataset](https://docs.microsoft.com/en-us/python/api/azureml-core/azureml.core.dataset.dataset?view=azure-ml-py) is a resource for exploring, transforming and managing data in Azure Machine Learning. The following Dataset types are supported:\n",
    "\n",
    "* [TabularDataset](https://docs.microsoft.com/en-us/python/api/azureml-core/azureml.data.tabulardataset?view=azure-ml-py) represents data in a tabular format created by parsing the provided file or list of files.\n",
    "\n",
    "* [FileDataset](https://docs.microsoft.com/en-us/python/api/azureml-core/azureml.data.filedataset?view=azure-ml-py) references single or multiple files in datastores or from public URLs.\n",
    "\n",
    "First, we will use visual tools in Azure ML studio to register and explore our dataset as Tabular Dataset.\n",
    "\n",
    "* **ACTION**: Follow [create-dataset](images/create-dataset.ipynb) guide to create Tabular Dataset from our training data."
   ]
  },
  {
   "cell_type": "markdown",
   "metadata": {},
   "source": [
    "#### Use created dataset in code"
   ]
  },
  {
   "cell_type": "code",
   "execution_count": 12,
   "metadata": {},
   "outputs": [],
   "source": [
    "# Get a dataset by name\n",
    "tabular_ds = Dataset.get_by_name(workspace=workspace, name=dataset_name)\n",
    "\n",
    "# Load a TabularDataset into pandas DataFrame\n",
    "df = tabular_ds.to_pandas_dataframe()"
   ]
  },
  {
   "cell_type": "code",
   "execution_count": 13,
   "metadata": {
    "jupyter": {
     "outputs_hidden": false,
     "source_hidden": false
    },
    "nteract": {
     "transient": {
      "deleting": false
     }
    }
   },
   "outputs": [
    {
     "data": {
      "text/html": [
       "<div>\n",
       "<style scoped>\n",
       "    .dataframe tbody tr th:only-of-type {\n",
       "        vertical-align: middle;\n",
       "    }\n",
       "\n",
       "    .dataframe tbody tr th {\n",
       "        vertical-align: top;\n",
       "    }\n",
       "\n",
       "    .dataframe thead th {\n",
       "        text-align: right;\n",
       "    }\n",
       "</style>\n",
       "<table border=\"1\" class=\"dataframe\">\n",
       "  <thead>\n",
       "    <tr style=\"text-align: right;\">\n",
       "      <th></th>\n",
       "      <th>54398502</th>\n",
       "      <th>Issue with load for Azure functions &lt;p&gt;We are creating an application by making use of some Microsoft features like Vision API  Text analytics and Bing translator onto Azure functions. As part of our application we are good with extracting and processing image content for smaller set of documents  Whereas when we process larger set of documents we are resulting to much more processing time and various errors like database concurrency  ocr error and translator error. It seems there were some limitation with Vision API(10 calls per second) and language detection (1000 call per minute)  It would be great if you can help us to point towards parallelism with best statistics in terms of infrastructure like number of functions vs number of Vision API..etc. &lt;/p&gt;  &lt;p&gt;Thanks in advance.&lt;/p&gt;  &lt;p&gt;Regards  Satya&lt;/p&gt;</th>\n",
       "      <th>azure-functions</th>\n",
       "    </tr>\n",
       "  </thead>\n",
       "  <tbody>\n",
       "    <tr>\n",
       "      <th>0</th>\n",
       "      <td>47576895</td>\n",
       "      <td>Terraform - Azure: Attach Existing Disk - Chan...</td>\n",
       "      <td>azure-virtual-machine</td>\n",
       "    </tr>\n",
       "    <tr>\n",
       "      <th>1</th>\n",
       "      <td>55119865</td>\n",
       "      <td>Devops npm task with custom command (build) no...</td>\n",
       "      <td>azure-devops</td>\n",
       "    </tr>\n",
       "    <tr>\n",
       "      <th>2</th>\n",
       "      <td>55502026</td>\n",
       "      <td>Azure DevOps (On Premise) - Minimatch Pattern ...</td>\n",
       "      <td>azure-devops</td>\n",
       "    </tr>\n",
       "    <tr>\n",
       "      <th>3</th>\n",
       "      <td>55659808</td>\n",
       "      <td>How do you get available Area Paths from Azure...</td>\n",
       "      <td>azure-devops</td>\n",
       "    </tr>\n",
       "    <tr>\n",
       "      <th>4</th>\n",
       "      <td>43471597</td>\n",
       "      <td>Azure WebJob Queue Trigger not responding to e...</td>\n",
       "      <td>azure-functions</td>\n",
       "    </tr>\n",
       "    <tr>\n",
       "      <th>5</th>\n",
       "      <td>55727018</td>\n",
       "      <td>Can we pass Databricks output to function in a...</td>\n",
       "      <td>azure-functions</td>\n",
       "    </tr>\n",
       "    <tr>\n",
       "      <th>6</th>\n",
       "      <td>52991806</td>\n",
       "      <td>azure ioteage device module fails to communica...</td>\n",
       "      <td>azure-devops</td>\n",
       "    </tr>\n",
       "    <tr>\n",
       "      <th>7</th>\n",
       "      <td>40620472</td>\n",
       "      <td>Azure Application Gateway with App Service &lt;p&gt;...</td>\n",
       "      <td>azure-web-app-service</td>\n",
       "    </tr>\n",
       "    <tr>\n",
       "      <th>8</th>\n",
       "      <td>9284781</td>\n",
       "      <td>Host ASPNET pages in Windows Azure Blob Storag...</td>\n",
       "      <td>azure-storage</td>\n",
       "    </tr>\n",
       "    <tr>\n",
       "      <th>9</th>\n",
       "      <td>48276779</td>\n",
       "      <td>Visual Studio Team Services how to publish cod...</td>\n",
       "      <td>azure-devops</td>\n",
       "    </tr>\n",
       "  </tbody>\n",
       "</table>\n",
       "</div>"
      ],
      "text/plain": [
       "   54398502  \\\n",
       "0  47576895   \n",
       "1  55119865   \n",
       "2  55502026   \n",
       "3  55659808   \n",
       "4  43471597   \n",
       "5  55727018   \n",
       "6  52991806   \n",
       "7  40620472   \n",
       "8   9284781   \n",
       "9  48276779   \n",
       "\n",
       "  Issue with load for Azure functions <p>We are creating an application by making use of some Microsoft features like Vision API  Text analytics and Bing translator onto Azure functions. As part of our application we are good with extracting and processing image content for smaller set of documents  Whereas when we process larger set of documents we are resulting to much more processing time and various errors like database concurrency  ocr error and translator error. It seems there were some limitation with Vision API(10 calls per second) and language detection (1000 call per minute)  It would be great if you can help us to point towards parallelism with best statistics in terms of infrastructure like number of functions vs number of Vision API..etc. </p>  <p>Thanks in advance.</p>  <p>Regards  Satya</p>  \\\n",
       "0  Terraform - Azure: Attach Existing Disk - Chan...                                                                                                                                                                                                                                                                                                                                                                                                                                                                                                                                                                                                                                                                                                                                                                                               \n",
       "1  Devops npm task with custom command (build) no...                                                                                                                                                                                                                                                                                                                                                                                                                                                                                                                                                                                                                                                                                                                                                                                               \n",
       "2  Azure DevOps (On Premise) - Minimatch Pattern ...                                                                                                                                                                                                                                                                                                                                                                                                                                                                                                                                                                                                                                                                                                                                                                                               \n",
       "3  How do you get available Area Paths from Azure...                                                                                                                                                                                                                                                                                                                                                                                                                                                                                                                                                                                                                                                                                                                                                                                               \n",
       "4  Azure WebJob Queue Trigger not responding to e...                                                                                                                                                                                                                                                                                                                                                                                                                                                                                                                                                                                                                                                                                                                                                                                               \n",
       "5  Can we pass Databricks output to function in a...                                                                                                                                                                                                                                                                                                                                                                                                                                                                                                                                                                                                                                                                                                                                                                                               \n",
       "6  azure ioteage device module fails to communica...                                                                                                                                                                                                                                                                                                                                                                                                                                                                                                                                                                                                                                                                                                                                                                                               \n",
       "7  Azure Application Gateway with App Service <p>...                                                                                                                                                                                                                                                                                                                                                                                                                                                                                                                                                                                                                                                                                                                                                                                               \n",
       "8  Host ASPNET pages in Windows Azure Blob Storag...                                                                                                                                                                                                                                                                                                                                                                                                                                                                                                                                                                                                                                                                                                                                                                                               \n",
       "9  Visual Studio Team Services how to publish cod...                                                                                                                                                                                                                                                                                                                                                                                                                                                                                                                                                                                                                                                                                                                                                                                               \n",
       "\n",
       "         azure-functions  \n",
       "0  azure-virtual-machine  \n",
       "1           azure-devops  \n",
       "2           azure-devops  \n",
       "3           azure-devops  \n",
       "4        azure-functions  \n",
       "5        azure-functions  \n",
       "6           azure-devops  \n",
       "7  azure-web-app-service  \n",
       "8          azure-storage  \n",
       "9           azure-devops  "
      ]
     },
     "execution_count": 13,
     "metadata": {},
     "output_type": "execute_result"
    }
   ],
   "source": [
    "df.head(10)"
   ]
  },
  {
   "cell_type": "markdown",
   "metadata": {},
   "source": [
    "## Register Dataset using SDK\n",
    "\n",
    "In addition to UI we can register datasets using SDK. In this workshop we will register second type of Datasets using code - File Dataset. File Dataset allows specific folder in our datastore that contains our data files to be registered as a Dataset.\n",
    "\n",
    "There is a folder within our datastore called **azure-service-data** that contains all our training and testing data. We will register this as a dataset."
   ]
  },
  {
   "cell_type": "markdown",
   "metadata": {},
   "source": [
    "#### If the dataset has already been registered, then you (and other users in your workspace) can directly run this cell."
   ]
  },
  {
   "cell_type": "code",
   "execution_count": 16,
   "metadata": {},
   "outputs": [],
   "source": [
    "azure_dataset = workspace.datasets[azure_dataset_name]"
   ]
  },
  {
   "cell_type": "code",
   "execution_count": null,
   "metadata": {},
   "outputs": [],
   "source": [
    "azure_dataset = Dataset.File.from_files(path=(datastore, azure_dataset_path))\n",
    "\n",
    "azure_dataset = azure_dataset.register(\n",
    "    workspace=workspace, name=azure_dataset_name, description=azure_dataset_descr\n",
    ")"
   ]
  }
 ],
 "metadata": {
  "file_extension": ".py",
  "kernel_info": {
   "name": "python3"
  },
  "kernelspec": {
   "display_name": "Python 3",
   "language": "python",
   "name": "python3"
  },
  "language_info": {
   "codemirror_mode": {
    "name": "ipython",
    "version": 3
   },
   "file_extension": ".py",
   "mimetype": "text/x-python",
   "name": "python",
   "nbconvert_exporter": "python",
   "pygments_lexer": "ipython3",
   "version": "3.6.3-final"
  },
  "mimetype": "text/x-python",
  "name": "python",
  "npconvert_exporter": "python",
  "nteract": {
   "version": "nteract-front-end@1.0.0"
  },
  "pygments_lexer": "ipython3",
  "version": 3
 },
 "nbformat": 4,
 "nbformat_minor": 2
}